{
 "cells": [
  {
   "cell_type": "markdown",
   "id": "a36d1e56",
   "metadata": {},
   "source": [
    "# Interaktive Präsentationen mit Jupyter Notebook in der Statistiklehre\n",
    "<!-- use \"#\" for the presentation's title as above; its author(s) etc. may be specified below -->\n",
    "<span id=\"author\" hidden>Tobias Bernstein</span>\n",
    "<span id=\"title_footnote\" hidden>Präsentationen mit JB</span>\n",
    "\n",
    "<span><u>Tobias Bernstein</u>, Thomas Hotz und Friedrich M. Philipp</span>\n",
    "<br/><br/>\n",
    "Fachgebiet für Wahrscheinlichkeitsrechnung und mathematische Statistik <br/>\n",
    "<span id=\"institute\">Institut für Mathematik<br/> TU Ilmenau</span>\n",
    "\n",
    "Herbsttagung des AK Stochastik, 26 Oktober 2025\n",
    "\n",
    "gefördert durch das BMFTR im Rahmen von **THInKI** – Thüringer Hochschulinitiative für KI im Studium\n",
    "\n",
    "<!-- the footer may be specified within the following div-element with id \"myfooter\" -->\n",
    "\n",
    "<div id=\"myfooter\" hidden>\n",
    "    <div style=\"padding-left:9em;padding-bottom:0.1em;font-size:2em;\">\n",
    "        <i>stuff</i>\n",
    "        <!-- if the following logo's src-attribute is an empty string \"\", it will be filled with the image embedded below, otherwise the specified URI will be used -->\n",
    "        <img id=\"mylogo\" src=\"\" alt=\"Logo\" height=\"100px\" style=\"padding-left:27em;;padding-bottom:0.3em\">\n",
    "    </div>\n",
    "</div>\n",
    "\n",
    "<!--  -->\n",
    "<!-- LaTeX-like macros maybe defined with the double dollar-signs below -->\n",
    "$$\n",
    "\\newcommand{\\N}{\\mathbb{N}}\n",
    "\\newcommand{\\Z}{\\mathbb{Z}}\n",
    "\\newcommand{\\Q}{\\mathbb{Q}}\n",
    "\\newcommand{\\R}{\\mathbb{R}}\n",
    "\\newcommand{\\C}{\\mathbb{C}}\n",
    "\\renewcommand{\\P}{\\mathbb{P}}\n",
    "\\DeclareMathOperator{\\E}{\\mathbf{E}}\n",
    "\\DeclareMathOperator{\\Var}{\\mathbf{Var}}\n",
    "$$\n",
    "<!--  -->\n",
    "<!-- the javascript code in the following span-element creates the footer and loads the following css styles -->\n",
    "<!-- change by Tobias: now replaces author automatically -->\n",
    "<span id=\"myfooterjs\" hidden>\n",
    "    const authorName = document.getElementById('author').textContent;\n",
    "    const footerTitle = document.getElementById('title_footnote').textContent;\n",
    "    const combined = footerTitle + \", \" + authorName\n",
    "    const footerName = document.querySelector('#myfooter i');\n",
    "    footerName.textContent = combined;    \n",
    "    document.styleSheets[0].insertRule(document.getElementById(\"mycss\").innerHTML,1); // set CSS\n",
    "    document.getElementById(\"footer\").innerHTML = document.getElementById(\"myfooter\").innerHTML;\n",
    "    if (document.getElementById(\"footer\").getElementsByTagName(\"img\")[0].getAttribute(\"src\") == \"\") {\n",
    "        document.getElementById(\"footer\").getElementsByTagName(\"img\")[0].setAttribute(\"src\", document.getElementById(\"thelogo\").getAttribute(\"class\"));\n",
    "    }   \n",
    "</span>\n",
    "<!--  -->\n",
    "<!-- the css within the following span-element is used to style the presentation -->\n",
    "<span id=\"mycss\" hidden>@media all {\n",
    "    .reveal .progress {\n",
    "        height: 10px; /* thick progress bar */\n",
    "        background-color: #00646a40; /* color of non-progressed part of progress bar */\n",
    "    }\n",
    "    .rise-enabled .reveal .progress span {\n",
    "        background: #00646a; /* color of progressed part of progress bar */\n",
    "    }\n",
    "    .rendered_html strong {\n",
    "        color: #ff7900; /* tui-orange for emphasis */\n",
    "    }\n",
    "    div.cell.selected:before, div.cell.selected.jupyter-soft-selected:before {\n",
    "        background: #00646a; /* tui-green for left bar of selected cell */\n",
    "    }\n",
    "    div.input_prompt {\n",
    "        color: #003359; /* tui-blue for input prompt */\n",
    "    }\n",
    "    div.output_prompt {\n",
    "        color: #ff7900; /* tui-orange for output prompt */\n",
    "    }\n",
    "    #rise-footer {\n",
    "        color: #003359; /* tui-blue for footer */\n",
    "    }\n",
    "    .rendered_html h1 {\n",
    "        color: #003359; /* tui-blue for talk title */\n",
    "    }\n",
    "    .rendered_html h2 {\n",
    "        color: #003359; /* tui-blue for slide title */\n",
    "    }\n",
    "    div.text_cell_render {\n",
    "        color: #003359; /* tui-blue for slide text */\n",
    "    }\n",
    "    #author {\n",
    "        color: #ff7900; /* tui-orange for author on title-page */\n",
    "    }\n",
    "    #institute {\n",
    "        color: #00646a; /* tui-green for institute */\n",
    "    }\n",
    "    .reveal .controls button {\n",
    "        color: #003359; /* tui-blue for arrow button */\n",
    "    }\n",
    "    div.notvisible {\n",
    "        display: none;\n",
    "    }\n",
    "    /* style code using https://codemirror.net/ */\n",
    "    span.cm-atom { color: #00646a !important; }\n",
    "    span.cm-builtin { color: #00646a !important; }\n",
    "    span.cm-comment { color: #606060 !important; }\n",
    "    span.cm-error { background-color: #ff7900 !important; }\n",
    "    span.cm-keyword { color: #00646a !important; }\n",
    "    span.cm-link { color: #606060 !important; }\n",
    "    span.cm-meta { color: #ff7900 !important; }\n",
    "    span.cm-number { color: #ff7900 !important; }\n",
    "    span.cm-operator { color: #00646a !important; }\n",
    "    span.cm-qualifier { color: #ff7900 !important; }\n",
    "    span.cm-variable { color: #003359c0 !important; }\n",
    "    span.cm-variable-2 { color: #003359 !important; }\n",
    "    span.cm-string { color: #003359 !important; }\n",
    "}</span>\n",
    "<!--  -->\n",
    "<!-- to use an embedded logo, embed an image in an empty markdown block, copy its \"image adress\" (HTML src-attribute), and enter it as the following span's class-attribute -->\n",
    "<span id=\"thelogo\" hidden></span>"
   ]
  },
  {
   "cell_type": "code",
   "execution_count": 1,
   "id": "0fa1a739",
   "metadata": {
    "slideshow": {
     "slide_type": "skip"
    }
   },
   "outputs": [],
   "source": [
    "import numpy as np # numerics\n",
    "import scipy.stats as st # probability\n",
    "import matplotlib.pyplot as plt # plots\n",
    "import matplotlib as mpl # more plots\n",
    "import pandas as pd # data handling\n",
    "import statsmodels.api as sm # statistics\n",
    "import statsmodels.formula.api as smf # statistical models\n",
    "import ipywidgets as widgets # interactive\n",
    "from IPython.display import display\n",
    "from IPython.display import clear_output\n",
    "import os.path # files\n",
    "\n",
    "mpl.rcParams['figure.dpi'] = 150\n",
    "\n",
    "def hide():   \n",
    "    from IPython import display\n",
    "    import binascii\n",
    "    import os\n",
    "    uid = binascii.hexlify(os.urandom(8)).decode()    \n",
    "    html = \"\"\"<div id=\"%s\"></div>\n",
    "    <script type=\"text/javascript\">\n",
    "        $(function(){\n",
    "            var p = $(\"#%s\");\n",
    "            if (p.length==0) return;\n",
    "            while (!p.hasClass(\"cell\")) {\n",
    "                p=p.parent();\n",
    "                if (p.prop(\"tagName\") ==\"body\") return;\n",
    "            }\n",
    "            var cell = p;\n",
    "            cell.find(\".input\").addClass(\"notvisible\")\n",
    "        });\n",
    "    </script>\"\"\" % (uid, uid)\n",
    "    display.display_html(html, raw=True)\n",
    "\n",
    "from html.parser import HTMLParser\n",
    "class NBParser(HTMLParser):\n",
    "    def handle_starttag(self, tag, attrs):\n",
    "        self.attr = {attr[0] : attr[1] for attr in attrs}\n",
    "\n",
    "p = NBParser()\n",
    "p.feed('<rise slide=\"fragment\"/>')\n",
    "p.attr['slide']"
   ]
  },
  {
   "cell_type": "markdown",
   "id": "2fe827c3",
   "metadata": {
    "slideshow": {
     "slide_type": "slide"
    }
   },
   "source": [
    "## Welches Problem lösen Jupyter Notebooks?"
   ]
  },
  {
   "cell_type": "markdown",
   "id": "6613df3e",
   "metadata": {
    "slideshow": {
     "slide_type": "fragment"
    }
   },
   "source": [
    "**Verwendung unterschiedlicher Werkzeuge für ...**\n",
    "- theoretische Abschnitte in Skript/Präsentation\n",
    "- praktische Beispiele in den Lehrveranstaltungen\n",
    "- Übungen"
   ]
  },
  {
   "cell_type": "markdown",
   "id": "e5c6a857",
   "metadata": {
    "slideshow": {
     "slide_type": "fragment"
    }
   },
   "source": [
    "**Notebooks können Text- und Codebestandteile enthalten;** <br/>\n",
    "**erlauben Lehre aus einem Guss!**\n",
    "<br/><br/>\n",
    "**attraktive Darstellung im Präsentationsmodus RISE**"
   ]
  },
  {
   "cell_type": "markdown",
   "id": "eefdc75a",
   "metadata": {},
   "source": [
    " "
   ]
  },
  {
   "cell_type": "markdown",
   "id": "3e9ee6f4",
   "metadata": {
    "slideshow": {
     "slide_type": "slide"
    }
   },
   "source": [
    "> **Satz (Gesetz der großen Zahlen im quadratischen Mittel):** Seien $X_1, \\dots, X_n \\in \\mathcal{L}^2(\\Omega, \\mathbf{P})$ unabhängig und identisch verteilte, quadratsummierbare Zufallsvariablen mit Erwartungswert $\\mu = \\mathbf{E} X_1 \\in \\mathbb{R}$ und Varianz $\\sigma^2 = \\mathbf{Var} X_1 \\in [0, \\infty)$. Dann gelten\n",
    ">\n",
    "> $$ \\textstyle \\mathbf{E} \\bar X_n = \\mu \\qquad\\text{und}\\qquad \\mathbf{Var} \\bar X_n = \\frac{\\sigma^2}n, $$\n",
    ">\n",
    "> und damit\n",
    ">\n",
    "> $$ \\Vert \\bar X_n - \\mu \\Vert_2 = \\sqrt{\\mathbf{Var} \\bar X_n} = \\tfrac{\\sigma}{\\sqrt n}. $$\n",
    ">\n",
    "> **$ \\bar X_n $** konvergiert also im quadratischen Mittel gegen $ \\mu $."
   ]
  },
  {
   "cell_type": "code",
   "execution_count": 2,
   "id": "1e562762",
   "metadata": {
    "scrolled": false,
    "slideshow": {
     "slide_type": "fragment"
    },
    "tags": [
     "hide"
    ]
   },
   "outputs": [
    {
     "data": {
      "text/html": [
       "<div id=\"5cade125a24e8351\"></div>\n",
       "    <script type=\"text/javascript\">\n",
       "        $(function(){\n",
       "            var p = $(\"#5cade125a24e8351\");\n",
       "            if (p.length==0) return;\n",
       "            while (!p.hasClass(\"cell\")) {\n",
       "                p=p.parent();\n",
       "                if (p.prop(\"tagName\") ==\"body\") return;\n",
       "            }\n",
       "            var cell = p;\n",
       "            cell.find(\".input\").addClass(\"notvisible\")\n",
       "        });\n",
       "    </script>"
      ]
     },
     "metadata": {},
     "output_type": "display_data"
    },
    {
     "data": {
      "image/png": "[encoded data removed]",
      "text/plain": [
       "<Figure size 1600x1200 with 1 Axes>"
      ]
     },
     "metadata": {},
     "output_type": "display_data"
    }
   ],
   "source": [
    "import numpy as np\n",
    "import pandas as pd\n",
    "import matplotlib.pyplot as plt\n",
    "import matplotlib as mpl # more plots\n",
    "import scipy.stats as st\n",
    "\n",
    "mpl.rcParams['figure.dpi'] = 250\n",
    "\n",
    "w_mean = st.randint(1, 7).mean()\n",
    "w_std = st.randint(1, 7).std()\n",
    "n = pd.Series(range(1, 21)) * 10\n",
    "r = 10\n",
    "x = n.apply(lambda ni: pd.Series(st.randint.rvs(1, 7, size=r * ni).reshape(r, ni).mean(1)))\n",
    "ax = plt.subplot(box_aspect=1/2)\n",
    "ax.plot()\n",
    "ax.axhline(w_mean, c='gray', ls='--')\n",
    "for ni, hi in zip(n, x.values):\n",
    "    ax.scatter(st.uniform.rvs(ni-0.15, 1.3, size=r), hi, marker='.')\n",
    "ax.set_xlabel('$n$')\n",
    "ax.set_ylabel('$\\\\bar x_n$')\n",
    "ns = np.arange(1, np.max(n)+1)\n",
    "ax.plot(ns, w_mean + 2 * w_std / np.sqrt(ns), 'k-', label=r'$\\mu\\pm 2 \\sigma/\\sqrt{n}$')\n",
    "ax.plot(ns, w_mean - 2 * w_std / np.sqrt(ns), 'k-')\n",
    "ax.set_xbound(1, np.max(n))\n",
    "ax.set_ybound(0.5, 6.5)\n",
    "ax.legend(loc='upper right')\n",
    "\n",
    "mpl.rcParams['figure.dpi'] = 150\n",
    "hide()"
   ]
  },
  {
   "cell_type": "markdown",
   "id": "eb6418b3",
   "metadata": {},
   "source": [
    " "
   ]
  },
  {
   "cell_type": "markdown",
   "id": "e9c10945",
   "metadata": {
    "slideshow": {
     "slide_type": "slide"
    }
   },
   "source": [
    "### Unsere Motivation\n",
    "\n",
    "- integrierte Lehrinfrastruktur für Lehrende und Studierende\n",
    "- interaktive Präsentationen in Vorlesungen\n",
    "- organisches Bereitstellen von Übungen\n",
    "- Förderung durch Bundesministerium für Forschung, Technologie und Raumfahrt (bzw. BMBF) im Rahmen des THInKI-Projekts\n",
    "![THInKI_Logo.png](THInKI_Logo.png)"
   ]
  },
  {
   "cell_type": "markdown",
   "id": "3ea0d471",
   "metadata": {
    "slideshow": {
     "slide_type": "slide"
    }
   },
   "source": [
    "## Was sind Jupyter Notebooks?\n",
    "\n",
    "- interaktive Computing-Plattform\n",
    "- JSON-Quelldatei: komfortable Bearabeitung im Browser/Programmierumgebung\n",
    "- enthält u. a. die **Zellen**\n",
    "    - Textzellen mit Markdown\n",
    "    - Codezellen mit ausführbarem Code\n",
    "- Bearbeitung live möglichhh → interaktiv \n",
    "- gehostet auf einem **Notebook-Server** (lokal oder online)\n",
    "- Zugriff über Browser \n",
    "- Erweiterung für Präsentationen = **RISE (Reveal.js - Jupyter/IPython Slideshow Extension)**\n",
    "- Installation: https://jupyter.org/install und https://rise.readthedocs.io/en/latest/installation.html"
   ]
  },
  {
   "cell_type": "markdown",
   "id": "2914e016",
   "metadata": {
    "slideshow": {
     "slide_type": "slide"
    }
   },
   "source": [
    "### Text-Zellen\n",
    "\n",
    "basieren auf **Markdown** = reiner Text + einfache „Markierungen“\n",
    "\n",
    "- `*kursiv*` ergibt *kursiv* \n",
    "- `**fett**` ergibt **fett**\n",
    "- `***fett und kursiv***` ergibt ***fett und kursiv***\n",
    "- `~durchgestrichen~` ergibt ~durchgestrichen~\n",
    "- &#96;Code&#96; für `Code`\n",
    "- Listen: `- ` am Zeilenanfang, für Hierarchie einrücken\n",
    "- Aufzählungen: `1. ` am Zeilenanfang, z. B.\n",
    "    1. erstens\n",
    "    1. zweitens\n",
    "    2. drittens (Nummerierung irrelevant, am einfachsten immer `1.`)\n",
    "<br/><br/>\n",
    "- `[Link auf ein Cheatsheet](https://www.markdownguide.org/cheat-sheet/)` ergibt [Link auf ein Cheatsheet](https://www.markdownguide.org/cheat-sheet/)\n",
    "- **Überschriften** verschiedener Stufe: `#` bis `######`; `##` geignet für **Folientitel**\n",
    "- um Zeichen mit besonderer Bedeutung zu erhalten, ggf. `\\` voranstellen, also `\\*` für \\*"
   ]
  },
  {
   "cell_type": "markdown",
   "id": "7283a273",
   "metadata": {
    "slideshow": {
     "slide_type": "-"
    }
   },
   "source": [
    " "
   ]
  },
  {
   "attachments": {
    "jupy_logo.png": {
     "image/png": "[encoded data removed]"
    }
   },
   "cell_type": "markdown",
   "id": "52dd798b",
   "metadata": {
    "slideshow": {
     "slide_type": "subslide"
    }
   },
   "source": [
    "### Fortgeschrittenes Markdown\n",
    "<br/>\n",
    "\n",
    "- **mathematische Formeln** wie in `LaTeX`:\n",
    "    1. in der Zeile mit `$a^2 + b^2 = c^2$`, z. B. **$a^2 + b^2 = c^2$**\n",
    "    1. abgesetzt mit `$$ e^{\\imath x} = \\cos x + \\imath \\sin x $$`\n",
    "        \n",
    "        **$$ e^{\\imath x} = \\cos x + \\imath \\sin x $$**\n",
    "        \n",
    "        beachte: Hervorherbungen mit `**` nur für gesamte Formel\n",
    "    1. Definition von `LaTeX-Makros` in `$$...$$` möglich (siehe Beginn des Dokuments)\n",
    "        \n",
    "- `> ` am Zeilenanfang für herausgehobene Blöcke (Zitate, Definitionen etc.)\n",
    "\n",
    "> **Zitat:**\n",
    ">\n",
    "> $\\quad$ Statistics state the state of the state.\n",
    "> \n",
    "> Anonym.\n",
    "\n",
    "- Bilder\n",
    "    - als Dateipfad: `![THInKI_Logo.png](attachment:THInKI_Logo.png)` ![THInKI_Logo.png](THInKI_Logo.png)\n",
    "    - als Anhang der Zelle (einfügen per Drag and Drop); wird in der Notebook-Datei gespeichert `![jupy_logo.png](attachment:jupy_logo.png)` ![jupy_logo.png](attachment:jupy_logo.png)   \n",
    "    - als Link: `![TUI](https://www.tu-ilmenau.de/fileadmin/_processed_/b/7/csm_Galerie_01__c__Hajo_Dietz_f0b1838c01.jpg)` ![TUI](https://www.tu-ilmenau.de/fileadmin/_processed_/b/7/csm_Galerie_01__c__Hajo_Dietz_f0b1838c01.jpg)\n",
    "\n",
    "\n",
    "- **Tabellen**:\n",
    "    ```\n",
    "    | Spalte 1 | Spalte 2 |\n",
    "    | :- | :- |\n",
    "    | Zelle 1,1 | Zelle 1,2 |\n",
    "    | Zelle 2,1 | Zelle 2,2 |\n",
    "    ```\n",
    "    | Spalte 1 | Spalte 2 |\n",
    "    | :- | :- |\n",
    "    | Zelle 1,1 | Zelle 1,2 |\n",
    "    | Zelle 2,1 | Zelle 2,2 |\n",
    "- horizontale **Trennlinie** `---`\n",
    "---\n",
    "- HTML möglich, insbesondere\n",
    "    - `<br/>` für **Zeilenumbruch** beispielsweise zwischen Überschrift und direkt folgender Liste\n",
    "    - `&#128640;` für **Unicode** &#128640;, insbesondere `&nbsp;` für **Leerzeichen**\n",
    "- beachte: nicht alle Features verschiedener **Markdown-Varianten** funktionieren in jupyter notebooks"
   ]
  },
  {
   "cell_type": "markdown",
   "id": "0a2256d8",
   "metadata": {},
   "source": [
    " "
   ]
  },
  {
   "cell_type": "markdown",
   "id": "b8603909",
   "metadata": {
    "slideshow": {
     "slide_type": "slide"
    }
   },
   "source": [
    "## Eigene Designs und Fußzeile\n",
    "\n",
    "- eigene (Corporate-)Designs mittels CSS\n",
    "- z. B. Farben, Code-Highlighting oder Schriftarten\n",
    "- Fußzeile (mit Logo) editierbar\n",
    "- andere Varianten möglich"
   ]
  },
  {
   "cell_type": "markdown",
   "id": "52f8160b",
   "metadata": {
    "slideshow": {
     "slide_type": "skip"
    }
   },
   "source": [
    "## Tastatur-Kürzel für Jupyter Notebooks\n",
    "<br/>\n",
    "\n",
    "| Modus | Taste(nkombination) | Wirkung |\n",
    "| :- | :- | :- |\n",
    "| Navigationsmodus | `M` | Zelle wird **Markdown-Zelle** |\n",
    "| Navigationsmodus | `Y` | Zelle wird **Code-Zelle** |\n",
    "| Navigationsmodus | `Enter` | Zelle **bearbeiten** |\n",
    "| Bearbeitungsmodus | `Esc` | Bearbeitungsmodus **verlassen** |\n",
    "| Bearbeitungsmodus | `Strg+Enter` | Zelle **ausführen** |\n",
    "| Bearbeitungsmodus | `Shift+Enter` | Zelle **ausführen** und **nächste Zelle auswählen** |\n",
    "| Bearbeitungsmodus | `Alt+Enter` | Zelle **ausführen** und **darunter neue Zelle bearbeiten** |\n",
    "| Navigationsmodus | `A` | **darüber neue** Zelle |\n",
    "| Navigationsmodus | `B` | **darunter neue** Zelle |\n",
    "| Navigationsmodus | `X` | Zelle **ausschneiden** (und löschen) |\n",
    "| Navigationsmodus | `C` | Zelle **kopieren** |\n",
    "| Navigationsmodus | `V` | Zelle **darunter einfügen** |\n",
    "\n",
    "siehe auch im Menü *Help → Keyboard Shortcuts* oder Taste `H` im Navigationsmodus"
   ]
  },
  {
   "cell_type": "markdown",
   "id": "bae364b7",
   "metadata": {},
   "source": [
    " "
   ]
  },
  {
   "cell_type": "markdown",
   "id": "507edc33",
   "metadata": {
    "slideshow": {
     "slide_type": "slide"
    }
   },
   "source": [
    "## Präsentationen mit RISE\n",
    "\n",
    "- **[Erweiterung](https://rise.readthedocs.io/en/latest/index.html)** für jupyter notebook server (bis **Version 6**)\n",
    "- ermöglicht Anzeige als **Präsentation**\n",
    "- „überlange“ Folien erhalten eine **Scrollbar**\n",
    "- Folienübersicht vefügbar\n",
    "- Markierungen\n",
    "- Möglichkeiten zum Aufdecken von Slides"
   ]
  },
  {
   "cell_type": "markdown",
   "id": "dfdcb105",
   "metadata": {
    "slideshow": {
     "slide_type": "skip"
    }
   },
   "source": [
    "- verschiedene Slide Types, z. B. Slide, Sub-Slide, Fragment, Skip\n",
    "- Editierung außerhalb des Präsentationsmodus"
   ]
  },
  {
   "cell_type": "markdown",
   "id": "fd045732",
   "metadata": {
    "slideshow": {
     "slide_type": "skip"
    }
   },
   "source": [
    "- Tastatur-Kürzel:\n",
    "\n",
    "| Modus | Taste(nkombination) | Wirkung |\n",
    "| :- | :- | :- |\n",
    "| Navigationsmodus | `Alt+R` | Präsentation mit aktueller Zelle **starten** |\n",
    "| Präsentationsmodus | `Alt+R` | Präsentation **beenden** |\n",
    "| Navigationsmodus | `Shift+I` | Zelle als **neue Folie** markieren |\n",
    "| Navigationsmodus | `Shift+G` | Zelle als **neuen Folienteil** markieren |\n",
    "| Navigationsmodus | `Shift+K` | Zelle zum **Überspringen** markieren |\n",
    "| Präsentationsmodus | `Space` / `PgDwn` | **nächste Folie** |\n",
    "| Präsentationsmodus | `Shift+Space` / `PgUp` | **vorige Folie** |\n",
    "| Präsentationsmodus | `W` | **Folienübersicht ein-/ausschalten** |\n",
    "| Präsentationsmodus | `Shift+A` | **Malmodus** |\n",
    "| Präsentationsmodus | `S` | **Farbwahl im Malmodus** |\n",
    "| Präsentationsmodus | `-` | **Gemaltes löschen** |\n",
    "| Präsentationsmodus | `T` | **Sprechermodus** aktivieren |"
   ]
  },
  {
   "cell_type": "markdown",
   "id": "2003b4d8",
   "metadata": {},
   "source": [
    " "
   ]
  },
  {
   "cell_type": "markdown",
   "id": "7a613a31",
   "metadata": {
    "slideshow": {
     "slide_type": "skip"
    }
   },
   "source": [
    "Diese Folie ist nicht im Präsentationsmodus zu sehen."
   ]
  },
  {
   "cell_type": "markdown",
   "id": "92165d78",
   "metadata": {
    "slideshow": {
     "slide_type": "slide"
    }
   },
   "source": [
    "## Code-Zellen\n",
    "\n",
    "- bestehen aus 3 Teilen\n",
    "    - **Prompt** nummeriert die Ausführung durch (**Reihenfolge** bei Abhängigkeiten!)\n",
    "    - **Input** (Code)\n",
    "    - **Output**\n",
    "- ggf. *Kernel → Restart & Run All* zum Neustart und erneuter Ausführen in vorgesehener Reihenfolge"
   ]
  },
  {
   "cell_type": "code",
   "execution_count": 8,
   "id": "4052a1a1",
   "metadata": {
    "slideshow": {
     "slide_type": "fragment"
    }
   },
   "outputs": [],
   "source": [
    "x = 4"
   ]
  },
  {
   "cell_type": "code",
   "execution_count": 6,
   "id": "744d68dd",
   "metadata": {
    "slideshow": {
     "slide_type": "fragment"
    }
   },
   "outputs": [],
   "source": [
    "x += 5"
   ]
  },
  {
   "cell_type": "code",
   "execution_count": 9,
   "id": "0cb25957",
   "metadata": {
    "slideshow": {
     "slide_type": "fragment"
    }
   },
   "outputs": [
    {
     "name": "stdout",
     "output_type": "stream",
     "text": [
      "4\n"
     ]
    }
   ],
   "source": [
    "# Ergebnis hängt von Ausführung der vorhergehenden Zellen ab.\n",
    "print(x)"
   ]
  },
  {
   "cell_type": "markdown",
   "id": "dca91692",
   "metadata": {},
   "source": [
    " "
   ]
  },
  {
   "cell_type": "markdown",
   "id": "d6af5712",
   "metadata": {
    "slideshow": {
     "slide_type": "slide"
    }
   },
   "source": [
    "- Import von Paketen und Bibliotheken möglich\n",
    "- einfachster Fall: gewöhnlicher Code mit Ausgabe"
   ]
  },
  {
   "cell_type": "code",
   "execution_count": 32,
   "id": "fdf46ff3",
   "metadata": {
    "slideshow": {
     "slide_type": "fragment"
    }
   },
   "outputs": [
    {
     "data": {
      "text/plain": [
       "5"
      ]
     },
     "execution_count": 32,
     "metadata": {},
     "output_type": "execute_result"
    }
   ],
   "source": [
    "import numpy as np\n",
    "np.random.randint(6) + 1 # einmal würfeln"
   ]
  },
  {
   "cell_type": "markdown",
   "id": "8faea1ae",
   "metadata": {
    "slideshow": {
     "slide_type": "slide"
    }
   },
   "source": [
    "- auch Plots als Ausgabe möglich:"
   ]
  },
  {
   "cell_type": "code",
   "execution_count": 33,
   "id": "2d351053",
   "metadata": {
    "slideshow": {
     "slide_type": "fragment"
    }
   },
   "outputs": [
    {
     "data": {
      "image/png": "[encoded data removed]",
      "text/plain": [
       "<Figure size 960x720 with 1 Axes>"
      ]
     },
     "metadata": {},
     "output_type": "display_data"
    }
   ],
   "source": [
    "import numpy as np\n",
    "import matplotlib.pyplot as plt\n",
    "\n",
    "x = np.linspace(0, 2 * np.pi, 400)\n",
    "fig, ax = plt.subplots(dpi=150)\n",
    "ax.plot(x, np.exp(x))\n",
    "ax.set_xlabel(\"$x$\")\n",
    "ax.set_ylabel(\"$\\exp(x)$\")\n",
    "ax.set_title(\"Die Exponentialfunktion\");"
   ]
  },
  {
   "cell_type": "markdown",
   "id": "1101bfc2",
   "metadata": {},
   "source": [
    " "
   ]
  },
  {
   "cell_type": "markdown",
   "id": "36474571",
   "metadata": {
    "slideshow": {
     "slide_type": "slide"
    }
   },
   "source": [
    "- Pandas gibt `DataFrame` als Tabelle aus:"
   ]
  },
  {
   "cell_type": "code",
   "execution_count": 34,
   "id": "ec971285",
   "metadata": {
    "slideshow": {
     "slide_type": "fragment"
    }
   },
   "outputs": [
    {
     "data": {
      "text/html": [
       "<div>\n",
       "<style scoped>\n",
       "    .dataframe tbody tr th:only-of-type {\n",
       "        vertical-align: middle;\n",
       "    }\n",
       "\n",
       "    .dataframe tbody tr th {\n",
       "        vertical-align: top;\n",
       "    }\n",
       "\n",
       "    .dataframe thead th {\n",
       "        text-align: right;\n",
       "    }\n",
       "</style>\n",
       "<table border=\"1\" class=\"dataframe\">\n",
       "  <thead>\n",
       "    <tr style=\"text-align: right;\">\n",
       "      <th></th>\n",
       "      <th>CDU und CSU</th>\n",
       "      <th>AfD</th>\n",
       "      <th>SPD</th>\n",
       "      <th>GRÜNE</th>\n",
       "      <th>Die Linke</th>\n",
       "      <th>Sonstige</th>\n",
       "    </tr>\n",
       "  </thead>\n",
       "  <tbody>\n",
       "    <tr>\n",
       "      <th>2025</th>\n",
       "      <td>28.6</td>\n",
       "      <td>20.8</td>\n",
       "      <td>16.4</td>\n",
       "      <td>11.6</td>\n",
       "      <td>8.8</td>\n",
       "      <td>13.9</td>\n",
       "    </tr>\n",
       "    <tr>\n",
       "      <th>2021</th>\n",
       "      <td>24.2</td>\n",
       "      <td>10.4</td>\n",
       "      <td>25.7</td>\n",
       "      <td>14.7</td>\n",
       "      <td>4.9</td>\n",
       "      <td>8.7</td>\n",
       "    </tr>\n",
       "  </tbody>\n",
       "</table>\n",
       "</div>"
      ],
      "text/plain": [
       "      CDU und CSU   AfD   SPD  GRÜNE  Die Linke  Sonstige\n",
       "2025         28.6  20.8  16.4   11.6        8.8      13.9\n",
       "2021         24.2  10.4  25.7   14.7        4.9       8.7"
      ]
     },
     "execution_count": 34,
     "metadata": {},
     "output_type": "execute_result"
    }
   ],
   "source": [
    "import pandas as pd\n",
    "\n",
    "btw = pd.DataFrame({\n",
    "    'CDU und CSU': pd.Series([28.6, 24.2], index=['2025', '2021']),\n",
    "    'AfD': pd.Series([20.8, 10.4], index=['2025', '2021']),\n",
    "    'SPD': pd.Series([16.4, 25.7], index=['2025', '2021']),\n",
    "    'GRÜNE': pd.Series([11.6, 14.7], index=['2025', '2021']),\n",
    "    'Die Linke': pd.Series([8.8, 4.9], index=['2025', '2021']),\n",
    "    'Sonstige': pd.Series([13.9, 8.7], index=['2025', '2021'])\n",
    "})\n",
    "btw"
   ]
  },
  {
   "cell_type": "markdown",
   "id": "20facabe",
   "metadata": {
    "slideshow": {
     "slide_type": "slide"
    }
   },
   "source": [
    "- Prompt / Input / Output kann mit Erweiterung [Hide_code](https://github.com/kirbs-/hide_code) **versteckt** (`W` / `E` / `R` und mit `Shift+` wieder angezeigt) werden\n",
    "- ggf. `None` als letzten Befehl, um Anzeige des Rückgabewerts zu verhindern"
   ]
  },
  {
   "cell_type": "code",
   "execution_count": 35,
   "id": "24c68460",
   "metadata": {
    "scrolled": false,
    "slideshow": {
     "slide_type": "fragment"
    }
   },
   "outputs": [
    {
     "data": {
      "image/png": "[encoded data removed]",
      "text/plain": [
       "<Figure size 960x720 with 1 Axes>"
      ]
     },
     "metadata": {},
     "output_type": "display_data"
    }
   ],
   "source": [
    "btw.fillna(0).T.plot(kind='bar')\n",
    "None"
   ]
  },
  {
   "cell_type": "markdown",
   "id": "e53f8033",
   "metadata": {},
   "source": [
    " "
   ]
  },
  {
   "cell_type": "markdown",
   "id": "931db159",
   "metadata": {
    "slideshow": {
     "slide_type": "slide"
    }
   },
   "source": [
    "## Alternative Kernel\n",
    "\n",
    "- auch für **andere Programmiersprachen** stehen Kernel zur Verfügung\n",
    "- beispielsweise [IRkernel](https://irkernel.github.io/) für **R**"
   ]
  },
  {
   "cell_type": "markdown",
   "id": "e666235e",
   "metadata": {
    "slideshow": {
     "slide_type": "slide"
    }
   },
   "source": [
    "## Interaktive Widgets\n",
    "\n",
    "- `python`-Paket [ipywidgets](https://github.com/jupyter-widgets/ipywidgets)\n",
    "- ermöglicht Erstellung von **„Applets“** mit Ein-/Ausgabefeldern, Slidern, Buttons etc.\n",
    "- laufen **in einer Zelle**, genauer deren Output (kein Wechsel zwischen Zellen möglich)\n",
    "- **vorher** ausführen (z.B. mittels Extension als `initialization cell` markieren) für Größe der Folie **und live neustarten**\n",
    "- Prompt und Code ausblenden (s.o.)"
   ]
  },
  {
   "cell_type": "markdown",
   "id": "d04f9c4e",
   "metadata": {
    "slideshow": {
     "slide_type": "subslide"
    }
   },
   "source": [
    "### Beispiel: Wahrscheinlichkeitsfunktion der **Binomialverteilung**"
   ]
  },
  {
   "cell_type": "code",
   "execution_count": 36,
   "id": "a0b9e2f0",
   "metadata": {
    "slideshow": {
     "slide_type": "fragment"
    }
   },
   "outputs": [
    {
     "data": {
      "application/vnd.jupyter.widget-view+json": {
       "model_id": "cecf4c4ebd114a4da7add234f639afdf",
       "version_major": 2,
       "version_minor": 0
      },
      "text/plain": [
       "VBox(children=(IntSlider(value=7, description='$n$', layout=Layout(width='50%'), max=20, min=1), FloatSlider(v…"
      ]
     },
     "execution_count": 36,
     "metadata": {},
     "output_type": "execute_result"
    }
   ],
   "source": [
    "import numpy as np\n",
    "import scipy.stats as st\n",
    "import matplotlib.pyplot as plt\n",
    "import ipywidgets as widgets\n",
    "from IPython.display import clear_output\n",
    "\n",
    "n_slider = widgets.IntSlider(min=1, max=20, step = 1, value=7, description='$n$', layout=widgets.Layout(width='50%'))\n",
    "p_slider = widgets.FloatSlider(min=0, max=1, step=0.05, value=0.65, description='$p$', layout=widgets.Layout(width='50%'))\n",
    "out = widgets.Output()\n",
    "\n",
    "def plot_pmf(n, p):\n",
    "    ks = np.arange(n + 1)\n",
    "    with out:\n",
    "        clear_output(wait=True)\n",
    "        fig, ax = plt.subplots()\n",
    "        ax.stem(ks, st.binom(n, p).pmf(ks), basefmt='k', markerfmt='.')\n",
    "        ax.set_xlabel('$k$')\n",
    "        ax.set_ylabel('Wahrscheinlichkeitsfunktion $f(k)$')\n",
    "        plt.show()\n",
    "\n",
    "def handle(change):\n",
    "    plot_pmf(n_slider.value, p_slider.value) \n",
    "    \n",
    "n_slider.observe(handle, names='value')\n",
    "p_slider.observe(handle, names='value')\n",
    "\n",
    "handle(None)\n",
    "widgets.VBox(children=[n_slider, p_slider, out])"
   ]
  },
  {
   "cell_type": "markdown",
   "id": "6cbc9a03",
   "metadata": {},
   "source": [
    " "
   ]
  },
  {
   "cell_type": "markdown",
   "id": "9c2bb4cc",
   "metadata": {
    "slideshow": {
     "slide_type": "subslide"
    }
   },
   "source": [
    "### Beispiel für ein komplexeres Widget: **Wählermodell**"
   ]
  },
  {
   "cell_type": "code",
   "execution_count": 37,
   "id": "1b8b5265",
   "metadata": {
    "slideshow": {
     "slide_type": "fragment"
    }
   },
   "outputs": [
    {
     "data": {
      "application/vnd.jupyter.widget-view+json": {
       "model_id": "ff78223e4bf840539839e6f3e83b4bce",
       "version_major": 2,
       "version_minor": 0
      },
      "text/plain": [
       "HBox(children=(Button(button_style='success', description='▶ Play', layout=Layout(height='40px', width='200px'…"
      ]
     },
     "metadata": {},
     "output_type": "display_data"
    },
    {
     "data": {
      "application/vnd.jupyter.widget-view+json": {
       "model_id": "d48a909d2d154764a19fd5731ab8f218",
       "version_major": 2,
       "version_minor": 0
      },
      "text/plain": [
       "Output()"
      ]
     },
     "metadata": {},
     "output_type": "display_data"
    }
   ],
   "source": [
    "import time\n",
    "import threading\n",
    "import numpy as np\n",
    "import scipy.stats as st\n",
    "import matplotlib.pyplot as plt\n",
    "import ipywidgets as widgets\n",
    "from IPython.display import clear_output\n",
    "import matplotlib.colors as col\n",
    "import matplotlib.colors as col\n",
    "from IPython.display import display, clear_output\n",
    "\n",
    "button_layout = widgets.Layout(width='200px', height='40px') # Set a specific width and height\n",
    "\n",
    "L = 4\n",
    "\n",
    "# Startzustand\n",
    "t = 0\n",
    "X = ( np.arange(L).reshape(L, 1) + np.arange(L).reshape(1, L) ) % 2\n",
    "I = None\n",
    "N = None\n",
    "t_max = 1000\n",
    "M = np.full(t_max + 1, np.nan)\n",
    "M[0] = np.sum(X == 1)\n",
    "\n",
    "# This Output widget will hold the grid or any visuals\n",
    "out = widgets.Output()\n",
    "\n",
    "with out:\n",
    "    fig, ax = plt.subplots()\n",
    "    ax.imshow(X, origin='lower', \n",
    "              cmap=col.ListedColormap([\"black\", \"white\", \"red\"]),\n",
    "              vmin=0, vmax=2)\n",
    "    ax.set_title(f'$t = {t}$')\n",
    "    ax.set_xticks(range(L))\n",
    "    ax.set_yticks(range(L))\n",
    "    plt.show()\n",
    "\n",
    "# Dummy step function (replace with your actual grid update)\n",
    "def step_func():\n",
    "    global t, X, I, N, fig, ax\n",
    "    \n",
    "    if I is None:\n",
    "        I = st.randint.rvs(0, L, size=2)\n",
    "        X[I[0], I[1]] = 2\n",
    "    elif N is None:\n",
    "        N = I.copy()\n",
    "        dim = st.randint.rvs(0, 2)\n",
    "        N[dim] = ( I[dim] + 2 * st.randint.rvs(0, 2) - 1 ) % L\n",
    "    else:\n",
    "        X[I[0], I[1]] = X[N[0], N[1]]\n",
    "        I = None\n",
    "        N = None\n",
    "        t += 1\n",
    "        M[t] = np.sum(X == 1)\n",
    "    \n",
    "    with out:\n",
    "        clear_output(wait=True)\n",
    "        fig, ax = plt.subplots()\n",
    "        ax.imshow(X, origin='lower',\n",
    "                  cmap=col.ListedColormap([\"black\", \"white\", \"red\"]),\n",
    "                  vmin=0, vmax=2)\n",
    "        ax.set_title(f'$t = {t}$')\n",
    "        ax.set_xticks(range(L))\n",
    "        ax.set_yticks(range(L))\n",
    "        if not N is None:\n",
    "            ax.add_patch(plt.Rectangle(np.flip(N) - 0.5, 1, 1,\n",
    "                                       color='red', fill=False, linewidth=3))\n",
    "        plt.show()\n",
    "\n",
    "# Buttons\n",
    "play_button = widgets.Button(description=\"▶ Play\", button_style='success', layout=button_layout)\n",
    "pause_button = widgets.Button(description=\"⏸ Pause\", button_style='warning', layout=button_layout)\n",
    "\n",
    "# Animation control flag\n",
    "is_running = False\n",
    "animation_thread = None\n",
    "\n",
    "def run_animation():\n",
    "    global is_running\n",
    "    while is_running:\n",
    "        step_func()\n",
    "        time.sleep(0.5)  # 0.5 second interval\n",
    "\n",
    "def on_play_clicked(b):\n",
    "    global is_running, animation_thread\n",
    "    if not is_running:\n",
    "        is_running = True\n",
    "        animation_thread = threading.Thread(target=run_animation, daemon=True)\n",
    "        animation_thread.start()\n",
    "\n",
    "def on_pause_clicked(b):\n",
    "    global is_running\n",
    "    is_running = False\n",
    "\n",
    "play_button.on_click(on_play_clicked)\n",
    "pause_button.on_click(on_pause_clicked)\n",
    "\n",
    "# Display everything\n",
    "display(widgets.HBox([play_button, pause_button]))\n",
    "display(out)"
   ]
  },
  {
   "cell_type": "markdown",
   "id": "c8067597",
   "metadata": {},
   "source": [
    " "
   ]
  },
  {
   "cell_type": "markdown",
   "id": "248f7903",
   "metadata": {
    "slideshow": {
     "slide_type": "slide"
    }
   },
   "source": [
    "## jupy_rise_toolkit\n",
    "\n",
    "- Entwicklung im Rahmen des THInKI-Projekts\n",
    "- entscheidende Beiträge und Ideen von Thomas Hotz, Stefan Heyder und Matthias Glock\n",
    "- verfügbar unter https://github.com/Stochastik-TU-Ilmenau/jupy_rise_toolkit\n",
    "- wesentliche Funktionen vorhanden\n",
    "- Tests und vollständige Readme-Datei bis Ende November"
   ]
  },
  {
   "cell_type": "markdown",
   "id": "da3a7f5a",
   "metadata": {
    "slideshow": {
     "slide_type": "subslide"
    }
   },
   "source": [
    "### hide-Funktion"
   ]
  },
  {
   "cell_type": "code",
   "execution_count": null,
   "id": "910f2ea2",
   "metadata": {
    "slideshow": {
     "slide_type": "fragment"
    },
    "tags": [
     "hide"
    ]
   },
   "outputs": [
    {
     "data": {
      "text/html": [
       "<div id=\"7ee25c07026755a8\"></div>\n",
       "    <script type=\"text/javascript\">\n",
       "        $(function(){\n",
       "            var p = $(\"#7ee25c07026755a8\");\n",
       "            if (p.length==0) return;\n",
       "            while (!p.hasClass(\"cell\")) {\n",
       "                p=p.parent();\n",
       "                if (p.prop(\"tagName\") ==\"body\") return;\n",
       "            }\n",
       "            var cell = p;\n",
       "            cell.find(\".input\").addClass(\"notvisible\")\n",
       "        });\n",
       "    </script>"
      ]
     },
     "metadata": {},
     "output_type": "display_data"
    },
    {
     "data": {
      "application/vnd.jupyter.widget-view+json": {
       "model_id": "9943cc4c1d9e49eda6d208b0ae09716a",
       "version_major": 2,
       "version_minor": 0
      },
      "text/plain": [
       "HBox(children=(Button(button_style='success', description='▶ Play', layout=Layout(height='40px', width='200px'…"
      ]
     },
     "metadata": {},
     "output_type": "display_data"
    },
    {
     "data": {
      "application/vnd.jupyter.widget-view+json": {
       "model_id": "9b7f1d3380ab46aaa2c7748c73482e6c",
       "version_major": 2,
       "version_minor": 0
      },
      "text/plain": [
       "Output()"
      ]
     },
     "metadata": {},
     "output_type": "display_data"
    }
   ],
   "source": [
    "import time\n",
    "import threading\n",
    "import numpy as np\n",
    "import scipy.stats as st\n",
    "import matplotlib.pyplot as plt\n",
    "import ipywidgets as widgets\n",
    "from IPython.display import clear_output\n",
    "import matplotlib.colors as col\n",
    "# from RISEmagic import hide\n",
    "import matplotlib.colors as col\n",
    "from IPython.display import display, clear_output\n",
    "\n",
    "hide()\n",
    "\n",
    "button_layout = widgets.Layout(width='200px', height='40px') # Set a specific width and height\n",
    "\n",
    "L = 4\n",
    "\n",
    "# Startzustand\n",
    "t = 0\n",
    "X = ( np.arange(L).reshape(L, 1) + np.arange(L).reshape(1, L) ) % 2\n",
    "I = None\n",
    "N = None\n",
    "t_max = 1000\n",
    "M = np.full(t_max + 1, np.nan)\n",
    "M[0] = np.sum(X == 1)\n",
    "\n",
    "# This Output widget will hold the grid or any visuals\n",
    "out = widgets.Output()\n",
    "\n",
    "with out:\n",
    "    fig, ax = plt.subplots()\n",
    "    ax.imshow(X, origin='lower', \n",
    "              cmap=col.ListedColormap([\"black\", \"white\", \"red\"]),\n",
    "              vmin=0, vmax=2)\n",
    "    ax.set_title(f'$t = {t}$')\n",
    "    ax.set_xticks(range(L))\n",
    "    ax.set_yticks(range(L))\n",
    "    plt.show()\n",
    "\n",
    "# Dummy step function (replace with your actual grid update)\n",
    "def step_func():\n",
    "    global t, X, I, N, fig, ax\n",
    "    \n",
    "    if I is None:\n",
    "        I = st.randint.rvs(0, L, size=2)\n",
    "        X[I[0], I[1]] = 2\n",
    "    elif N is None:\n",
    "        N = I.copy()\n",
    "        dim = st.randint.rvs(0, 2)\n",
    "        N[dim] = ( I[dim] + 2 * st.randint.rvs(0, 2) - 1 ) % L\n",
    "    else:\n",
    "        X[I[0], I[1]] = X[N[0], N[1]]\n",
    "        I = None\n",
    "        N = None\n",
    "        t += 1\n",
    "        M[t] = np.sum(X == 1)\n",
    "    \n",
    "    with out:\n",
    "        clear_output(wait=True)\n",
    "        fig, ax = plt.subplots()\n",
    "        ax.imshow(X, origin='lower',\n",
    "                  cmap=col.ListedColormap([\"black\", \"white\", \"red\"]),\n",
    "                  vmin=0, vmax=2)\n",
    "        ax.set_title(f'$t = {t}$')\n",
    "        ax.set_xticks(range(L))\n",
    "        ax.set_yticks(range(L))\n",
    "        if not N is None:\n",
    "            ax.add_patch(plt.Rectangle(np.flip(N) - 0.5, 1, 1,\n",
    "                                       color='red', fill=False, linewidth=3))\n",
    "        plt.show()\n",
    "\n",
    "# Buttons\n",
    "play_button = widgets.Button(description=\"▶ Play\", button_style='success', layout=button_layout)\n",
    "pause_button = widgets.Button(description=\"⏸ Pause\", button_style='warning', layout=button_layout)\n",
    "\n",
    "# Animation control flag\n",
    "is_running = False\n",
    "animation_thread = None\n",
    "\n",
    "def run_animation():\n",
    "    global is_running\n",
    "    while is_running:\n",
    "        step_func()\n",
    "        time.sleep(0.5)  # 0.5 second interval\n",
    "\n",
    "def on_play_clicked(b):\n",
    "    global is_running, animation_thread\n",
    "    if not is_running:\n",
    "        is_running = True\n",
    "        animation_thread = threading.Thread(target=run_animation, daemon=True)\n",
    "        animation_thread.start()\n",
    "\n",
    "def on_pause_clicked(b):\n",
    "    global is_running\n",
    "    is_running = False\n",
    "\n",
    "play_button.on_click(on_play_clicked)\n",
    "pause_button.on_click(on_pause_clicked)\n",
    "\n",
    "# Display everything\n",
    "display(widgets.HBox([play_button, pause_button]))\n",
    "display(out)"
   ]
  },
  {
   "cell_type": "markdown",
   "id": "4083d808",
   "metadata": {},
   "source": [
    " "
   ]
  },
  {
   "cell_type": "markdown",
   "id": "b47a4b27",
   "metadata": {
    "slideshow": {
     "slide_type": "subslide"
    }
   },
   "source": [
    "### PDF-Erzeugung\n",
    "\n",
    "- Umwandlung der Notebooks in statisches Skript von Studierenden gewünscht\n",
    "- automatisiertes Skript zur Umwandlung Notebook → HTML → PDF\n",
    "- u. a. mit Inhaltsverzeichnis\n",
    "- Seitenumbrüche können manuell hinzugefügt werden"
   ]
  },
  {
   "cell_type": "markdown",
   "id": "c9c38646",
   "metadata": {
    "slideshow": {
     "slide_type": "subslide"
    }
   },
   "source": [
    "### Templates"
   ]
  },
  {
   "cell_type": "code",
   "execution_count": 39,
   "id": "3d4281cd",
   "metadata": {
    "slideshow": {
     "slide_type": "fragment"
    }
   },
   "outputs": [],
   "source": [
    "import os\n",
    "import sys\n",
    "import nbformat\n",
    "\n",
    "def create_template(\n",
    "        author: str = 'Author',\n",
    "        title: str = 'Titel',\n",
    "        date: str = None, \n",
    "        path: str = None,\n",
    "        filename: str = 'my_notebook' ):\n",
    "    \n",
    "    # default behavoir: use path of script that is calling the function\n",
    "    if path == None:\n",
    "          \n",
    "        path = os.path.abspath('')\n",
    "    \n",
    "    # create new notebook\n",
    "    nb = nbformat.v4.new_notebook() \n",
    "\n",
    "    # add tilte \n",
    "    cell_title = nbformat.v4.new_markdown_cell( '# ' + title )\n",
    "    nb['cells'].append( cell_title )\n",
    "\n",
    "    # add packages\n",
    "    cell_packages = nbformat.v4.new_code_cell( 'import numpy as np' )\n",
    "    nb['cells'].append( cell_packages )\n",
    "\n",
    "    # add metadata TODO\n",
    "\n",
    "    nb['metadata'].update({\n",
    "        \"rise\": {\n",
    "            \"enable_chalkboard\": True,\n",
    "            \"footer\": \"<div style=\\\"padding-left:6em;padding-bottom:0.1em;font-size:3em;\\\">\" + \n",
    "                        author + \": &nbsp; <i>\" + title + \"</i><img src=\\\"TU_Logo_SVG_crop.svg\\\" alt=\\\"TU Ilmenau\\\" height=\\\"120%\\\" style=\\\"padding-left:9em;;padding-bottom:0.3em\\\"></div>\",\n",
    "            \"history\": False,\n",
    "            \"progress\": True,\n",
    "            \"reveal_shortcuts\": {\n",
    "                \"chalkboard\": {\n",
    "                    \"download\": \"d\",\n",
    "                    \"toggleChalkboard\": \"shift-b\",\n",
    "                    \"toggleNotesCanvas\": \"shift-a\"\n",
    "                }\n",
    "            },\n",
    "            \"scroll\": True\n",
    "        }\n",
    "    })\n",
    "\n",
    "    # write to file\n",
    "    cd = os.getcwd()\n",
    "\n",
    "    with open( path + '\\\\' + filename + '.ipynb', 'w' ) as f:\n",
    "\t    nbformat.write(nb, f)"
   ]
  },
  {
   "cell_type": "code",
   "execution_count": 40,
   "id": "2330e967",
   "metadata": {
    "slideshow": {
     "slide_type": "fragment"
    }
   },
   "outputs": [],
   "source": [
    "if True:\n",
    "    create_template( author = 'Tobias Bernstein', title = 'Mein erstes Jupyter Notebook', filename = 'from_nb' )"
   ]
  },
  {
   "cell_type": "markdown",
   "id": "b3f1dc3e",
   "metadata": {},
   "source": [
    " "
   ]
  },
  {
   "cell_type": "markdown",
   "id": "0a8d2c87",
   "metadata": {
    "slideshow": {
     "slide_type": "subslide"
    }
   },
   "source": [
    "### Live-Umfragen\n",
    "\n",
    "- Vorbereiten von Umfrage und Ergebnis-Datei auf geeigneter Cloud (z. B. TU-Cloud oder Google Drive)\n",
    "- Erstellen eines QR-Codes zum Zugriff auf Umfrage\n",
    "- automatisches Auslesen der Ergebnisdatei\n",
    "- Präsentation muss nicht verlassen werden!"
   ]
  },
  {
   "cell_type": "code",
   "execution_count": 41,
   "id": "43968edb",
   "metadata": {
    "slideshow": {
     "slide_type": "fragment"
    }
   },
   "outputs": [],
   "source": [
    "import qrcode\n",
    "import requests\n",
    "import pandas as pd\n",
    "import matplotlib.pyplot as plt\n",
    "from IPython.display import display\n",
    "from io import StringIO\n",
    "\n",
    "def show_QR_code( data: str, size: int = 10 ) -> None:\n",
    "\n",
    "    # Generate QR code\n",
    "    qr = qrcode.QRCode(\n",
    "        version=1,\n",
    "        error_correction=qrcode.constants.ERROR_CORRECT_L,\n",
    "        box_size=size,\n",
    "        border=4,\n",
    "    )\n",
    "    qr.add_data(data)\n",
    "    qr.make(fit=True)\n",
    "\n",
    "    # Create and show image\n",
    "    img = qr.make_image(fill=\"black\", back_color=\"white\")\n",
    "    display(img)\n",
    "    # imgplot = plt.imshow(img)\n",
    "    # plt.show()\n",
    "    return None\n",
    "\n",
    "def get_csv_from_cloud( url: str ) -> pd.DataFrame:\n",
    "\n",
    "    # add /download\n",
    "    url_answers = url + \"/download\"\n",
    "\n",
    "    # press \"Ergebnisse -> ... -> Tabellendokument neu exportieren\"\n",
    "    response = requests.get( url_answers )\n",
    "\n",
    "    if response.status_code == 200:\n",
    "        # Read CSV into pandas DataFrame\n",
    "        csv_data = StringIO( response.content.decode( 'utf-8' ) )\n",
    "        df = pd.read_csv( csv_data )\n",
    "        return df\n",
    "    else:\n",
    "        print( \"Failed to download CSV: \", response.status_code )\n",
    "        return None"
   ]
  },
  {
   "cell_type": "code",
   "execution_count": 42,
   "id": "ef02deee",
   "metadata": {
    "slideshow": {
     "slide_type": "fragment"
    }
   },
   "outputs": [
    {
     "data": {
      "image/jpeg": "[encoded data removed]",
      "image/png": "[encoded data removed]",
      "text/plain": [
       "<qrcode.image.pil.PilImage at 0x1c445fec0d0>"
      ]
     },
     "metadata": {},
     "output_type": "display_data"
    }
   ],
   "source": [
    "show_QR_code(\"https://github.com/Stochastik-TU-Ilmenau/jupy_rise_toolkit\", 25)"
   ]
  },
  {
   "cell_type": "code",
   "execution_count": 43,
   "id": "bff654a2",
   "metadata": {
    "slideshow": {
     "slide_type": "fragment"
    }
   },
   "outputs": [
    {
     "data": {
      "text/html": [
       "<div>\n",
       "<style scoped>\n",
       "    .dataframe tbody tr th:only-of-type {\n",
       "        vertical-align: middle;\n",
       "    }\n",
       "\n",
       "    .dataframe tbody tr th {\n",
       "        vertical-align: top;\n",
       "    }\n",
       "\n",
       "    .dataframe thead th {\n",
       "        text-align: right;\n",
       "    }\n",
       "</style>\n",
       "<table border=\"1\" class=\"dataframe\">\n",
       "  <thead>\n",
       "    <tr style=\"text-align: right;\">\n",
       "      <th></th>\n",
       "      <th>Meldedatum</th>\n",
       "      <th>NeuerFall</th>\n",
       "      <th>AnzahlFall</th>\n",
       "      <th>AnzahlTodesfall</th>\n",
       "      <th>AnzahlGenesen</th>\n",
       "    </tr>\n",
       "  </thead>\n",
       "  <tbody>\n",
       "    <tr>\n",
       "      <th>0</th>\n",
       "      <td>2020-10-01</td>\n",
       "      <td>0</td>\n",
       "      <td>2929</td>\n",
       "      <td>26</td>\n",
       "      <td>2903</td>\n",
       "    </tr>\n",
       "    <tr>\n",
       "      <th>1</th>\n",
       "      <td>2020-10-02</td>\n",
       "      <td>0</td>\n",
       "      <td>2929</td>\n",
       "      <td>25</td>\n",
       "      <td>2904</td>\n",
       "    </tr>\n",
       "    <tr>\n",
       "      <th>2</th>\n",
       "      <td>2020-10-03</td>\n",
       "      <td>0</td>\n",
       "      <td>2196</td>\n",
       "      <td>12</td>\n",
       "      <td>2184</td>\n",
       "    </tr>\n",
       "    <tr>\n",
       "      <th>3</th>\n",
       "      <td>2020-10-04</td>\n",
       "      <td>0</td>\n",
       "      <td>1156</td>\n",
       "      <td>9</td>\n",
       "      <td>1147</td>\n",
       "    </tr>\n",
       "    <tr>\n",
       "      <th>4</th>\n",
       "      <td>2020-10-05</td>\n",
       "      <td>0</td>\n",
       "      <td>2415</td>\n",
       "      <td>35</td>\n",
       "      <td>2380</td>\n",
       "    </tr>\n",
       "  </tbody>\n",
       "</table>\n",
       "</div>"
      ],
      "text/plain": [
       "   Meldedatum  NeuerFall  AnzahlFall  AnzahlTodesfall  AnzahlGenesen\n",
       "0  2020-10-01          0        2929               26           2903\n",
       "1  2020-10-02          0        2929               25           2904\n",
       "2  2020-10-03          0        2196               12           2184\n",
       "3  2020-10-04          0        1156                9           1147\n",
       "4  2020-10-05          0        2415               35           2380"
      ]
     },
     "execution_count": 43,
     "metadata": {},
     "output_type": "execute_result"
    }
   ],
   "source": [
    "url = \"https://cloud.tu-ilmenau.de/s/YxQDbxXJxiWWHBS\"\n",
    "df = get_csv_from_cloud( url )\n",
    "df.head()"
   ]
  },
  {
   "cell_type": "markdown",
   "id": "637d1dcf",
   "metadata": {
    "slideshow": {
     "slide_type": "fragment"
    }
   },
   "source": [
    " "
   ]
  },
  {
   "cell_type": "markdown",
   "id": "acc84982",
   "metadata": {
    "slideshow": {
     "slide_type": "slide"
    }
   },
   "source": [
    "## Nutzen für die eigene Lehre\n",
    "\n",
    "- Lehrende ...\n",
    "    - nutzen **lokale Installation**\n",
    "    - halten **Präsentation**\n",
    "    - mit speziellem **mouse pointer**\n",
    "    - mit (drahtloser) **Minitastatur**\n",
    "    - **entwickeln (ohne RISE)** ggf. in Programmierumgebung (z.B. VSCode)\n",
    "\n",
    "\n",
    "- Studierende ...\n",
    "    - nutzen (ohne Installation) **[JupyterHub](https://jup.rz.tu-ilmenau.de/)** des Rechenzentrums (im Intranet/VPN) für notebook **ohne RISE**\n",
    "    - benötigen nur einen **Browser** (plattform-/hardware-unabhängig)\n",
    "    - können verborgene **Zusatzinhalte** zu Hause anschauen\n",
    "    - verwenden **Code-Beispiele** aus notebook für **Übungen**\n",
    "    - erhalten **PDF** für Notizen während der Vorlesung"
   ]
  },
  {
   "cell_type": "markdown",
   "id": "abcda04e",
   "metadata": {
    "slideshow": {
     "slide_type": "slide"
    }
   },
   "source": [
    "## Vorteile\n",
    "\n",
    "- für Lehrende **leicht** zu erlernen und zu bedienen\n",
    "- nur **eine** Quelldatei\n",
    "- geringer Aufwand für Erstellen und Pflege der Inhalte\n",
    "- Code kann **live** ausgeführt und verändert werden\n",
    "- **interaktive** Elemente\n",
    "- **live erhobene Daten** auswerten\n",
    "- Präsentation und Code **in einer Umgebung / Datei**\n",
    "- **open source** verfügbar für `python` und `R`\n",
    "- **Zusatzinhalte** (heterogene Zielgruppen!) können eingefügt, aber nicht angezeigt werden"
   ]
  },
  {
   "cell_type": "markdown",
   "id": "4281d8f8",
   "metadata": {
    "slideshow": {
     "slide_type": "subslide"
    }
   },
   "source": [
    "## Nachteile\n",
    "\n",
    "- gewisse **Instabilität**, ggf. Präsentation von Folie davor neu starten\n",
    "- aktuell **Umbruch**: zukünftig nur für **JupyterLab** verfügbar\n",
    "- **Ästhetik** des Skripts leidet\n",
    "- eingeschränkte **Flexibilität** der Präsentation\n",
    "\n",
    "**Vorteile überwiegen!**"
   ]
  },
  {
   "cell_type": "markdown",
   "id": "2d0d5e4a",
   "metadata": {},
   "source": [
    " "
   ]
  },
  {
   "cell_type": "markdown",
   "id": "cc430223",
   "metadata": {
    "slideshow": {
     "slide_type": "slide"
    }
   },
   "source": [
    "# Vielen Dank für Ihre Aufmerksamkeit!\n",
    "\n",
    "# **<i>Fragen?</i>**\n",
    "\n",
    "<br/>\n",
    "<br/>\n",
    "\n",
    "Mit freundlicher Unterstützung von <br/> ![THInKI_Logo.png](THInKI_Logo.png)"
   ]
  },
  {
   "cell_type": "markdown",
   "id": "eb2b8efb",
   "metadata": {},
   "source": [
    " "
   ]
  }
 ],
 "metadata": {
  "celltoolbar": "Tags",
  "kernelspec": {
   "display_name": "Python 3 (ipykernel)",
   "language": "python",
   "name": "python3"
  },
  "language_info": {
   "codemirror_mode": {
    "name": "ipython",
    "version": 3
   },
   "file_extension": ".py",
   "mimetype": "text/x-python",
   "name": "python",
   "nbconvert_exporter": "python",
   "pygments_lexer": "ipython3",
   "version": "3.11.9"
  },
  "rise": {
   "enable_chalkboard": true,
   "footer": "<span id=\"footer\"></span><script>eval(document.getElementById(\"myfooterjs\").innerHTML);</script>",
   "history": false,
   "progress": true,
   "reveal_shortcuts": {
    "chalkboard": {
     "download": "d",
     "toggleChalkboard": "shift-b",
     "toggleNotesCanvas": "shift-a"
    }
   },
   "scroll": true
  }
 },
 "nbformat": 4,
 "nbformat_minor": 5
}
